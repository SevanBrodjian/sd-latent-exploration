{
 "cells": [
  {
   "cell_type": "code",
   "execution_count": 1,
   "metadata": {},
   "outputs": [],
   "source": [
    "import os\n",
    "import sys\n",
    "os.chdir('..')\n",
    "current_dir = os.path.abspath('')\n",
    "sys.path.append(current_dir)"
   ]
  },
  {
   "cell_type": "code",
   "execution_count": 5,
   "metadata": {},
   "outputs": [],
   "source": [
    "import scripts.helpers\n",
    "import scripts.sampler_helpers\n",
    "import scripts.latent_helpers\n",
    "from pytorch_lightning import seed_everything\n",
    "import importlib"
   ]
  },
  {
   "cell_type": "code",
   "execution_count": 3,
   "metadata": {},
   "outputs": [],
   "source": [
    "importlib.reload(scripts.helpers)\n",
    "importlib.reload(scripts.sampler_helpers)\n",
    "importlib.reload(scripts.latent_helpers)\n",
    "from scripts.helpers import *\n",
    "from scripts.sampler_helpers import *\n",
    "from scripts.latent_helpers import *"
   ]
  },
  {
   "cell_type": "code",
   "execution_count": 4,
   "metadata": {},
   "outputs": [
    {
     "name": "stderr",
     "output_type": "stream",
     "text": [
      "Global seed set to 42\n"
     ]
    }
   ],
   "source": [
    "seed_everything(42)\n",
    "SAVE_PATH = \"outputs/latentimgs_test/\"\n",
    "set_lowvram_mode(False)\n",
    "model = load_model_from_joblib(\"./checkpoints/sdxlbase1_cache.joblib\")"
   ]
  },
  {
   "cell_type": "code",
   "execution_count": 6,
   "metadata": {},
   "outputs": [],
   "source": [
    "options = {\n",
    "  \"discretization\": \"EDMDiscretization\",\n",
    "  \"sigma_min\"     : 0.03,   #EDMDiscretization, [-inf, inf | 0.03]\n",
    "  \"sigma_max\"     : 14.61,  #EDMDiscretization, [-inf, inf | 14.61]\n",
    "  \"rho\"           : 3.0,    #EDMDiscretization, [-inf, inf | 3.0]\n",
    "\n",
    "  \"guider\"                  : \"VanillaCFG\",\n",
    "  \"additional_guider_kwargs\": {},\n",
    "  \"vanilla_cfg\"             : 5.0,  #VanillaCFG, [0.0, inf | 5.0]\n",
    "  \"linear_cfg\"              : 1.5,  #LinearCFG, [1.0, inf | 1.5]\n",
    "  \"triangle_cfg\"            : 2.5,  #TriangleCFG, [1.0, 10.0 | 2.5]\n",
    "  \"min_cfg\"                 : 1.0,  #LinearCFG TriangleCFG, [1.0]\n",
    "  \"num_frames\"              : 25,   #LinearCFG TriangleCFG, [25]\n",
    "\n",
    "  \"sampler\"           : \"DPMPP2MSampler\",\n",
    "  \"s_churn\"           : 0.0,    #EulerEDM HeunEDM [0.0, inf | 0.0]\n",
    "  \"s_tmin\"            : 0.0,    #EulerEDM HeunEDM [0.0, inf |0.0]\n",
    "  \"s_tmax\"            : 999.0,  #EulerEDM HeunEDM [0.0, inf | 999.0]\n",
    "  \"s_noise\"           : 0.0,    #EulerEDM HeunEDM [0.0, inf | 0.0]\n",
    "  \"eta\"               : 1.0,    #EulerAncestral DPMPP2SAncestral [0.0, inf | 1.0]\n",
    "  \"s_noise_ancestral\" : 1.0,    #EulerAncestral DPMPP2SAncestral [0.0, inf | 1.0]\n",
    "  \"order\"             : 4,      #LinearMultistep [1, inf | 4]\n",
    "\n",
    "  \"crop_coords_top\"         : 0,    #[0, inf | 0]\n",
    "  \"crop_coords_left\"        : 0,    #[0, inf | 0]\n",
    "  \"aesthetic_score\"         : 6.0,  #[-inf, inf | 6.0]\n",
    "  \"negative_aesthetic_score\": 2.5,  #[-inf, inf | 2.5]\n",
    "  \"fps\"                     : 6,    #[1, inf | 6]\n",
    "  \"mb_id\"                   : 127,  #[0, 511 | 127]\n",
    "  \"image_path\"              : None\n",
    "}"
   ]
  },
  {
   "cell_type": "code",
   "execution_count": 35,
   "metadata": {},
   "outputs": [],
   "source": [
    "prompt = \"A cow happily floating in outer space\"\n",
    "negative_prompt = \"\"\n",
    "num_samples =  1\n",
    "num_steps =  30\n",
    "height = 576\n",
    "width = 1024\n",
    "\n",
    "sampler = init_sampling(options = options, steps = num_steps)\n",
    "value_dict = {\n",
    "    'crop_coords_top': 0,\n",
    "    'crop_coords_left': 0,\n",
    "    'orig_width': width,\n",
    "    'orig_height': height,\n",
    "    'target_width': width,\n",
    "    'target_height': height,\n",
    "    'prompt': prompt,\n",
    "    'negative_prompt': negative_prompt\n",
    "}"
   ]
  },
  {
   "cell_type": "code",
   "execution_count": 16,
   "metadata": {},
   "outputs": [],
   "source": [
    "c, uc = get_conditionings(model, value_dict, num_samples)"
   ]
  },
  {
   "cell_type": "code",
   "execution_count": 37,
   "metadata": {},
   "outputs": [
    {
     "name": "stdout",
     "output_type": "stream",
     "text": [
      "##############################  Sampling setting  ##############################\n",
      "Sampler: DPMPP2MSampler\n",
      "Discretization: EDMDiscretization\n",
      "Guider: VanillaCFG\n"
     ]
    },
    {
     "name": "stderr",
     "output_type": "stream",
     "text": [
      "Sampling with DPMPP2MSampler for 31 steps:  97%|█████████▋| 30/31 [00:03<00:00,  9.35it/s]\n"
     ]
    }
   ],
   "source": [
    "samples = get_samples(model, sampler, num_samples, c, uc, height, width)"
   ]
  },
  {
   "cell_type": "code",
   "execution_count": 77,
   "metadata": {},
   "outputs": [],
   "source": [
    "out = decode_samples(model, samples_rand)"
   ]
  },
  {
   "cell_type": "code",
   "execution_count": 78,
   "metadata": {},
   "outputs": [],
   "source": [
    "perform_save_locally(SAVE_PATH, out)"
   ]
  },
  {
   "cell_type": "code",
   "execution_count": 14,
   "metadata": {},
   "outputs": [],
   "source": [
    "potato_c = copy.copy(c)\n",
    "potato_uc = copy.copy(uc)\n",
    "potato_samples = copy.copy(samples)\n",
    "potato_out = copy.copy(out)"
   ]
  },
  {
   "cell_type": "code",
   "execution_count": 21,
   "metadata": {},
   "outputs": [],
   "source": [
    "cow_c = copy.copy(c)\n",
    "cow_uc = copy.copy(uc)\n",
    "cow_samples = copy.copy(samples)\n",
    "cow_out = copy.copy(out)"
   ]
  },
  {
   "cell_type": "code",
   "execution_count": 36,
   "metadata": {},
   "outputs": [],
   "source": [
    "c['crossattn'] = (potato_c['crossattn'] + cow_c['crossattn'])/2\n",
    "c['vector'] = (potato_c['vector'] + cow_c['vector'])/2"
   ]
  },
  {
   "cell_type": "code",
   "execution_count": 44,
   "metadata": {},
   "outputs": [],
   "source": [
    "samples = (potato_samples + cow_samples)/2"
   ]
  },
  {
   "cell_type": "code",
   "execution_count": 76,
   "metadata": {},
   "outputs": [],
   "source": [
    "std = 1.0\n",
    "mean = 10.0\n",
    "random_sample = torch.randn(samples.shape).to('cuda') * std + mean\n",
    "samples_rand = cow_samples + random_sample"
   ]
  },
  {
   "cell_type": "code",
   "execution_count": 48,
   "metadata": {},
   "outputs": [
    {
     "name": "stdout",
     "output_type": "stream",
     "text": [
      "tensor(0.0208, device='cuda:0') tensor(0.1624, device='cuda:0')\n",
      "tensor(0.0551, device='cuda:0') tensor(0.9009, device='cuda:0')\n",
      "tensor(0.3431, device='cuda:0')\n"
     ]
    }
   ],
   "source": [
    "print(c['crossattn'].mean(), c['vector'].mean())\n",
    "print(samples.mean(), samples.std())\n",
    "print(out.mean())"
   ]
  },
  {
   "cell_type": "code",
   "execution_count": 47,
   "metadata": {},
   "outputs": [
    {
     "data": {
      "text/plain": [
       "torch.Size([1, 4, 72, 128])"
      ]
     },
     "execution_count": 47,
     "metadata": {},
     "output_type": "execute_result"
    }
   ],
   "source": [
    "samples.shape"
   ]
  },
  {
   "cell_type": "code",
   "execution_count": 53,
   "metadata": {},
   "outputs": [
    {
     "data": {
      "text/plain": [
       "tensor(0.0042, device='cuda:0')"
      ]
     },
     "execution_count": 53,
     "metadata": {},
     "output_type": "execute_result"
    }
   ],
   "source": [
    "random_sample.mean()"
   ]
  },
  {
   "cell_type": "code",
   "execution_count": 80,
   "metadata": {},
   "outputs": [
    {
     "data": {
      "text/plain": [
       "torch.Size([1, 3, 576, 1024])"
      ]
     },
     "execution_count": 80,
     "metadata": {},
     "output_type": "execute_result"
    }
   ],
   "source": [
    "out.shape"
   ]
  },
  {
   "cell_type": "code",
   "execution_count": null,
   "metadata": {},
   "outputs": [],
   "source": []
  }
 ],
 "metadata": {
  "kernelspec": {
   "display_name": "latent-space-probe",
   "language": "python",
   "name": "python3"
  },
  "language_info": {
   "codemirror_mode": {
    "name": "ipython",
    "version": 3
   },
   "file_extension": ".py",
   "mimetype": "text/x-python",
   "name": "python",
   "nbconvert_exporter": "python",
   "pygments_lexer": "ipython3",
   "version": "3.10.9"
  }
 },
 "nbformat": 4,
 "nbformat_minor": 2
}
